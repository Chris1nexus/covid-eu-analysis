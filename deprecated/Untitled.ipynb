{
 "cells": [
  {
   "cell_type": "code",
   "execution_count": 3,
   "id": "4ff70246",
   "metadata": {},
   "outputs": [
    {
     "data": {
      "text/plain": [
       "array([[[228, 248, 193],\n",
       "        [ 92, 111,  96],\n",
       "        [236, 195, 132],\n",
       "        ...,\n",
       "        [ 34, 108, 172],\n",
       "        [246, 220,  14],\n",
       "        [121,  34, 155]],\n",
       "\n",
       "       [[ 93, 138, 182],\n",
       "        [201, 244,  18],\n",
       "        [103, 199, 122],\n",
       "        ...,\n",
       "        [ 48,  27,  93],\n",
       "        [160, 192, 151],\n",
       "        [135, 201,  12]],\n",
       "\n",
       "       [[197, 104,  67],\n",
       "        [165,  64, 146],\n",
       "        [167,  71,  33],\n",
       "        ...,\n",
       "        [ 38,  32, 225],\n",
       "        [186,  59,  20],\n",
       "        [193,   2, 185]],\n",
       "\n",
       "       ...,\n",
       "\n",
       "       [[232, 186, 138],\n",
       "        [248,  86,  69],\n",
       "        [210, 127, 109],\n",
       "        ...,\n",
       "        [155, 129, 240],\n",
       "        [245,  13,  39],\n",
       "        [170, 182, 212]],\n",
       "\n",
       "       [[139,  13, 176],\n",
       "        [230,  49, 162],\n",
       "        [156, 132,  43],\n",
       "        ...,\n",
       "        [ 44,  67,  78],\n",
       "        [ 53, 151,  61],\n",
       "        [230,  49, 215]],\n",
       "\n",
       "       [[121,  86,  19],\n",
       "        [213,  23, 161],\n",
       "        [ 44, 111, 136],\n",
       "        ...,\n",
       "        [ 20, 203,  77],\n",
       "        [ 70,   6,  71],\n",
       "        [177,  21,  49]]])"
      ]
     },
     "execution_count": 3,
     "metadata": {},
     "output_type": "execute_result"
    }
   ],
   "source": [
    "import numpy as np\n",
    "\n",
    "\n",
    "\n",
    "np.random.randint(0,255, (300,400,3))[:,:,::-1]"
   ]
  },
  {
   "cell_type": "code",
   "execution_count": null,
   "id": "2abdee1e",
   "metadata": {},
   "outputs": [],
   "source": [
    "import sklearn\n",
    "\n",
    "\n",
    "sklearn."
   ]
  }
 ],
 "metadata": {
  "kernelspec": {
   "display_name": "Python 3 (ipykernel)",
   "language": "python",
   "name": "python3"
  },
  "language_info": {
   "codemirror_mode": {
    "name": "ipython",
    "version": 3
   },
   "file_extension": ".py",
   "mimetype": "text/x-python",
   "name": "python",
   "nbconvert_exporter": "python",
   "pygments_lexer": "ipython3",
   "version": "3.8.10"
  }
 },
 "nbformat": 4,
 "nbformat_minor": 5
}
